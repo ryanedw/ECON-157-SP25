{
 "cells": [
  {
   "cell_type": "markdown",
   "metadata": {},
   "source": [
    "<img src=\"images/econ157.png\" width=\"200\" />"
   ]
  },
  {
   "cell_type": "markdown",
   "metadata": {},
   "source": [
    "<h1>ECON 157 Class 02</h1>"
   ]
  },
  {
   "cell_type": "markdown",
   "metadata": {},
   "source": [
    "<h2>Price elasticities of demand</h2>"
   ]
  },
  {
   "cell_type": "markdown",
   "metadata": {},
   "source": [
    "Imagine we measure prices and quantities transacted in a market at times $t = 1$ and $t = 2$, and we are reasonably confident that only supply (and price) is shifting, and that demand is not shifting."
   ]
  },
  {
   "cell_type": "code",
   "execution_count": null,
   "metadata": {
    "collapsed": false
   },
   "outputs": [],
   "source": [
    "time = c(1, 2)\n",
    "price = c(20, 25)\n",
    "quantity = c(200, 190)\n",
    "time\n",
    "price\n",
    "quantity"
   ]
  },
  {
   "cell_type": "markdown",
   "metadata": {},
   "source": [
    "Here is a simple plot of the two points in $(Q,P)$-space. Economists always plot quantities along the $x$-axis and price along the $y$-axis. This is reasonable if you think that suppliers bring their goods to market, where the price then gets determined by suppliers and demanders bidding against each other in a competitive fashion."
   ]
  },
  {
   "cell_type": "code",
   "execution_count": null,
   "metadata": {
    "collapsed": false
   },
   "outputs": [],
   "source": [
    "plot(quantity, price)\n",
    "lines(quantity, price, type = \"l\", col = \"blue\", lwd = 2)"
   ]
  },
  {
   "cell_type": "markdown",
   "metadata": {},
   "source": [
    "This is a nicely linear, downward sloping demand curve. In reality, demand almost always slopes down but might not always be linear. In upper-division undergraduate courses, typically the demand curves are always linear if that's where we start."
   ]
  },
  {
   "cell_type": "markdown",
   "metadata": {},
   "source": [
    "<font color = \"blue\">Measure the price elasticity of demand when the price falls from 25 to 20.</font>"
   ]
  },
  {
   "cell_type": "code",
   "execution_count": null,
   "metadata": {
    "collapsed": false
   },
   "outputs": [],
   "source": [
    "eta_12 <- ( ( (quantity[2] - quantity[1]) ) / quantity[1] ) / \n",
    "                ( (price[2] - price[1]) / price[1] )\n",
    "eta_12"
   ]
  },
  {
   "cell_type": "markdown",
   "metadata": {},
   "source": [
    "<font color = \"blue\">Now measure the price elasticity of demand when the price rises from 20 to 25.</font>"
   ]
  },
  {
   "cell_type": "code",
   "execution_count": null,
   "metadata": {
    "collapsed": true
   },
   "outputs": [],
   "source": [
    "eta_21 <-\n",
    "\n",
    "eta_21"
   ]
  },
  {
   "cell_type": "markdown",
   "metadata": {},
   "source": [
    "<font color = \"blue\">Are these the same? Discuss.</font>"
   ]
  },
  {
   "cell_type": "markdown",
   "metadata": {},
   "source": []
  },
  {
   "cell_type": "markdown",
   "metadata": {},
   "source": [
    "<h2>The arc elasticity</h2>\n",
    "\n",
    "The arc elasticity is a convenient measure because it is the same whether we go forward or in reverse, because we choose the denominator of those percentage changes as the <i>average</i> of the two points. Try out the \"full\" version of the arc elasticity: "
   ]
  },
  {
   "cell_type": "code",
   "execution_count": null,
   "metadata": {
    "collapsed": false
   },
   "outputs": [],
   "source": [
    "eta_arc_12 <- ( ( (quantity[2] - quantity[1]) ) / \n",
    "                       ( quantity[2] + quantity[1] ) / 2 ) / \n",
    "                ( (price[2] - price[1]) / \n",
    "                       ( price[2] + price[1] ) / 2 )\n",
    "eta_arc_12"
   ]
  },
  {
   "cell_type": "markdown",
   "metadata": {},
   "source": [
    "<font color = \"blue\">Now measure the arc price elasticity of demand when the price rises from 20 to 25.</font>"
   ]
  },
  {
   "cell_type": "code",
   "execution_count": null,
   "metadata": {
    "collapsed": true
   },
   "outputs": [],
   "source": [
    "eta_arc_21 <- \n",
    "\n",
    "eta_arc_21"
   ]
  },
  {
   "cell_type": "markdown",
   "metadata": {},
   "source": [
    "<font color = \"blue\">Are these the same? Discuss.</font>"
   ]
  },
  {
   "cell_type": "markdown",
   "metadata": {},
   "source": []
  },
  {
   "cell_type": "markdown",
   "metadata": {},
   "source": [
    "<h2>Logs, logs everywhere</h2>\n",
    "\n",
    "Economists love the natural logarithm. Check this out:"
   ]
  },
  {
   "cell_type": "code",
   "execution_count": null,
   "metadata": {
    "collapsed": false
   },
   "outputs": [],
   "source": [
    "eta_log_12 <- ( log(quantity[2]) - log(quantity[1]) ) / \n",
    "              ( log(price[2])    - log(price[1]) ) \n",
    "eta_log_12"
   ]
  },
  {
   "cell_type": "code",
   "execution_count": null,
   "metadata": {
    "collapsed": false
   },
   "outputs": [],
   "source": [
    "eta_log_21 <- ( log(quantity[1]) - log(quantity[2]) ) / \n",
    "              ( log(price[1])    - log(price[2]) ) \n",
    "eta_log_21"
   ]
  },
  {
   "cell_type": "markdown",
   "metadata": {},
   "source": [
    "<font color = \"blue\">Are these the same? Discuss.</font>"
   ]
  },
  {
   "cell_type": "markdown",
   "metadata": {},
   "source": []
  },
  {
   "cell_type": "markdown",
   "metadata": {},
   "source": [
    "<hr>"
   ]
  },
  {
   "cell_type": "markdown",
   "metadata": {},
   "source": [
    "<h2>Third variables and the value of RCTs</h2>\n",
    "\n",
    "The challenge is that when we observe differences in price and quantities <i>across space</i> or across individuals, we are likely seeing the effects of a whole bunch of other variables in addition to prices on quantity demanded. How can we think about this?\n",
    "\n",
    "Suppose that our dataset measures prices and quantities demanded across geographies, and we know that people in cities face higher prices and also have higher incomes, and incomes raise the demand for health care. "
   ]
  },
  {
   "cell_type": "markdown",
   "metadata": {},
   "source": [
    "When that is true, then the quantities demanded in cities are higher than they would have been if we had held incomes constant. So an observational analysis of the price elasticity of demand, across geographies that varied by income, would show a greater quantity demanded at a higher price in high-price, high-income places, than we would have observed were income held constant.\n",
    "\n",
    "The best measure of price elasticity is surely one that holds other variables constant.\n",
    "\n",
    "A <b>randomized controlled trial</b> can do exactly this, if it varies the price of the good across randomly selected treatment and control groups. By design, none of the other characteristics of participants are correlated with the variation in the treatment variable."
   ]
  },
  {
   "cell_type": "markdown",
   "metadata": {},
   "source": [
    "<div style=\"text-align: right\"> <span style=\"font-family:Papyrus; \">And they lived happily ever after. The End.</span></div>"
   ]
  }
 ],
 "metadata": {
  "kernelspec": {
   "display_name": "R",
   "language": "R",
   "name": "ir"
  },
  "language_info": {
   "codemirror_mode": "r",
   "file_extension": ".r",
   "mimetype": "text/x-r-source",
   "name": "R",
   "pygments_lexer": "r",
   "version": "4.2.1"
  }
 },
 "nbformat": 4,
 "nbformat_minor": 5
}
